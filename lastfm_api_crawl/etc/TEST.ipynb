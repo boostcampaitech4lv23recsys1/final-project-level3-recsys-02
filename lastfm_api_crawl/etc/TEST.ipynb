{
 "cells": [
  {
   "cell_type": "code",
   "execution_count": 2,
   "metadata": {},
   "outputs": [
    {
     "data": {
      "text/plain": [
       "85686"
      ]
     },
     "execution_count": 2,
     "metadata": {},
     "output_type": "execute_result"
    }
   ],
   "source": [
    "import pandas as pd\n",
    "\n",
    "track = pd.read_csv('ver_kdy1000/trackinfo_kdy_kdy1000.csv')\n",
    "\n",
    "len(track)"
   ]
  },
  {
   "cell_type": "code",
   "execution_count": 4,
   "metadata": {},
   "outputs": [
    {
     "data": {
      "text/plain": [
       "track_name              85686\n",
       "duration                85686\n",
       "listeners               85686\n",
       "playcount               85686\n",
       "artist_name             85686\n",
       "artist_url              85686\n",
       "track_tag_list          40350\n",
       "album_title             62216\n",
       "streamable_text         85686\n",
       "streamable_fulltrack    85686\n",
       "dtype: int64"
      ]
     },
     "execution_count": 4,
     "metadata": {},
     "output_type": "execute_result"
    }
   ],
   "source": [
    "track.notnull().sum()"
   ]
  },
  {
   "cell_type": "code",
   "execution_count": 6,
   "metadata": {},
   "outputs": [
    {
     "data": {
      "text/plain": [
       "1000"
      ]
     },
     "execution_count": 6,
     "metadata": {},
     "output_type": "execute_result"
    }
   ],
   "source": [
    "import pandas as pd\n",
    "\n",
    "user = pd.read_csv('ver_kdy1000/userInfo_kdy_kdy1000.csv')\n",
    "\n",
    "len(user)"
   ]
  },
  {
   "cell_type": "code",
   "execution_count": 7,
   "metadata": {},
   "outputs": [
    {
     "data": {
      "text/plain": [
       "user_name     1000\n",
       "age           1000\n",
       "subscriber    1000\n",
       "realname       361\n",
       "bootstrap     1000\n",
       "playcount     1000\n",
       "image          520\n",
       "registered    1000\n",
       "country        337\n",
       "gender        1000\n",
       "url           1000\n",
       "follower         0\n",
       "following        0\n",
       "dtype: int64"
      ]
     },
     "execution_count": 7,
     "metadata": {},
     "output_type": "execute_result"
    }
   ],
   "source": [
    "user.notnull().sum()"
   ]
  },
  {
   "cell_type": "code",
   "execution_count": null,
   "metadata": {},
   "outputs": [],
   "source": []
  }
 ],
 "metadata": {
  "kernelspec": {
   "display_name": ".venv",
   "language": "python",
   "name": "python3"
  },
  "language_info": {
   "codemirror_mode": {
    "name": "ipython",
    "version": 3
   },
   "file_extension": ".py",
   "mimetype": "text/x-python",
   "name": "python",
   "nbconvert_exporter": "python",
   "pygments_lexer": "ipython3",
   "version": "3.8.5"
  },
  "orig_nbformat": 4,
  "vscode": {
   "interpreter": {
    "hash": "b404493821b84157350aea34fd5c42bba86090251e433405ee0b039c9eccba5f"
   }
  }
 },
 "nbformat": 4,
 "nbformat_minor": 2
}
