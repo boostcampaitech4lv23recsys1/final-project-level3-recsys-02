{
 "cells": [
  {
   "cell_type": "code",
   "execution_count": 1,
   "metadata": {},
   "outputs": [],
   "source": [
    "import pandas as pd\n",
    "import numpy as np\n",
    "import csv"
   ]
  },
  {
   "cell_type": "code",
   "execution_count": 2,
   "metadata": {},
   "outputs": [],
   "source": [
    "# dtype 설정하는 함수\n",
    "def check_dtypes(file_path):\n",
    "    print(file_path)\n",
    "    tmp = pd.read_csv(file_path, sep='\\t', nrows=0, header = None)\n",
    "    col_dtypes = {}\n",
    "    for col in tmp.columns:\n",
    "        df = pd.read_csv(file_path, sep='\\t', usecols=[col], header = None)\n",
    "        dtype = str(df[col].dtype)\n",
    "\n",
    "        if \"int\" in dtype or \"float\" in dtype:\n",
    "            c_min = df[col].min()\n",
    "            c_max = df[col].max()\n",
    "        elif dtype == \"object\":\n",
    "            n_unique = df[col].nunique()\n",
    "            threshold = n_unique / df.shape[0]\n",
    "\n",
    "        if \"int\" in dtype:\n",
    "            if c_min > np.iinfo(np.int8).min and c_max < np.iinfo(np.int8).max:\n",
    "                col_dtype = \"int8\"\n",
    "            elif c_min > np.iinfo(np.uint8).min and c_max < np.iinfo(np.uint8).max:\n",
    "                col_dtype = \"uint8\"\n",
    "            elif c_min > np.iinfo(np.int16).min and c_max < np.iinfo(np.int16).max:\n",
    "                col_dtype = \"int16\"\n",
    "            elif c_min > np.iinfo(np.uint16).min and c_max < np.iinfo(np.uint16).max:\n",
    "                col_dtype = \"uint16\"\n",
    "            elif c_min > np.iinfo(np.int32).min and c_max < np.iinfo(np.int32).max:\n",
    "                col_dtype = \"int32\"\n",
    "            elif c_min > np.iinfo(np.uint32).min and c_max < np.iinfo(np.uint32).max:\n",
    "                col_dtype = \"uint32\"\n",
    "            elif c_min > np.iinfo(np.int64).min and c_max < np.iinfo(np.int64).max:\n",
    "                col_dtype = \"int64\"\n",
    "            elif c_min > np.iinfo(np.uint64).min and c_max < np.iinfo(np.uint64).max:\n",
    "                col_dtype = \"uint64\"\n",
    "            else:\n",
    "                col_dtype = \"uint64\"\n",
    "\n",
    "        elif \"float\" in dtype:\n",
    "            if c_min > np.iinfo(np.float32).min and c_max < np.iinfo(np.float32).max:\n",
    "                col_dtype = \"float32\"\n",
    "            else:\n",
    "                col_dtype = \"float64\"\n",
    "\n",
    "        elif dtype == \"object\":\n",
    "            if threshold > 0.7:\n",
    "                col_dtype = \"object\"\n",
    "            else:\n",
    "                col_dtype = \"category\"\n",
    "\n",
    "        col_dtypes[col] = col_dtype\n",
    "\n",
    "    return col_dtypes"
   ]
  },
  {
   "attachments": {},
   "cell_type": "markdown",
   "metadata": {},
   "source": [
    "## Artist\n",
    "\n",
    "- unique 개수 : 3169572"
   ]
  },
  {
   "cell_type": "code",
   "execution_count": 3,
   "metadata": {},
   "outputs": [
    {
     "name": "stdout",
     "output_type": "stream",
     "text": [
      "./data/LFM-1b_artists.txt\n",
      "<class 'pandas.core.frame.DataFrame'>\n",
      "RangeIndex: 3169572 entries, 0 to 3169571\n",
      "Data columns (total 2 columns):\n",
      " #   Column       Dtype \n",
      "---  ------       ----- \n",
      " 0   artist_id    int32 \n",
      " 1   artist_name  object\n",
      "dtypes: int32(1), object(1)\n",
      "memory usage: 36.3+ MB\n"
     ]
    }
   ],
   "source": [
    "artist_path = '../data/LFM-1b_artists.txt'\n",
    "data_types = check_dtypes(artist_path)\n",
    "artists = pd.read_csv(artist_path, sep = '\\t', dtype=data_types, header=None)\n",
    "artists.columns = ['artist_id','artist_name']\n",
    "artists.info()"
   ]
  },
  {
   "cell_type": "code",
   "execution_count": 44,
   "metadata": {},
   "outputs": [
    {
     "data": {
      "text/plain": [
       "3169572"
      ]
     },
     "execution_count": 44,
     "metadata": {},
     "output_type": "execute_result"
    }
   ],
   "source": [
    "artists['artist_id'].nunique()"
   ]
  },
  {
   "cell_type": "code",
   "execution_count": 4,
   "metadata": {},
   "outputs": [
    {
     "data": {
      "text/plain": [
       "3162592"
      ]
     },
     "execution_count": 4,
     "metadata": {},
     "output_type": "execute_result"
    }
   ],
   "source": [
    "artists['artist_name'].nunique()"
   ]
  },
  {
   "cell_type": "code",
   "execution_count": 5,
   "metadata": {},
   "outputs": [
    {
     "data": {
      "text/plain": [
       "artist_id      0\n",
       "artist_name    5\n",
       "dtype: int64"
      ]
     },
     "execution_count": 5,
     "metadata": {},
     "output_type": "execute_result"
    }
   ],
   "source": [
    "artists.isnull().sum()"
   ]
  },
  {
   "cell_type": "code",
   "execution_count": 10,
   "metadata": {},
   "outputs": [
    {
     "data": {
      "text/plain": [
       "6979"
      ]
     },
     "execution_count": 10,
     "metadata": {},
     "output_type": "execute_result"
    }
   ],
   "source": [
    "artists['artist_name'].duplicated().sum()"
   ]
  },
  {
   "cell_type": "code",
   "execution_count": 4,
   "metadata": {},
   "outputs": [
    {
     "data": {
      "text/plain": [
       "0"
      ]
     },
     "execution_count": 4,
     "metadata": {},
     "output_type": "execute_result"
    }
   ],
   "source": [
    "artists['artist_id'].duplicated().sum()"
   ]
  },
  {
   "cell_type": "code",
   "execution_count": 9,
   "metadata": {},
   "outputs": [
    {
     "data": {
      "text/plain": [
       "6925"
      ]
     },
     "execution_count": 9,
     "metadata": {},
     "output_type": "execute_result"
    }
   ],
   "source": [
    "artists[artists['artist_name'].duplicated()]['artist_name'].nunique()"
   ]
  },
  {
   "cell_type": "code",
   "execution_count": 5,
   "metadata": {},
   "outputs": [],
   "source": [
    "del artists # memory 절약"
   ]
  },
  {
   "attachments": {},
   "cell_type": "markdown",
   "metadata": {},
   "source": [
    "## Album\n",
    "\n",
    "- album id unique 개수 : 15934220\n",
    "- album name unique 개수 : 5847775\n",
    "    - 동일한 이름을 가진 다른 앨범의 경우\n",
    "        - 동일한 이름 & 동일한 아티스트인 경우 = 동일한 앨범\n",
    "    - Nan 값 존재 : 1352241\n",
    "    ---\n",
    "- album id 와 이름이 1:1 매칭되지 않음\n",
    "    - __album_id = track_id라면, 매칭되지 않을 수도 있음__\n",
    "    - __single 발매의 경우 album으로 취급되지 않음(track only)__"
   ]
  },
  {
   "cell_type": "code",
   "execution_count": 6,
   "metadata": {},
   "outputs": [
    {
     "name": "stdout",
     "output_type": "stream",
     "text": [
      "./data/LFM-1b_albums.txt\n",
      "<class 'pandas.core.frame.DataFrame'>\n",
      "RangeIndex: 15934220 entries, 0 to 15934219\n",
      "Data columns (total 3 columns):\n",
      " #   Column      Dtype   \n",
      "---  ------      -----   \n",
      " 0   album_id    int32   \n",
      " 1   album_name  category\n",
      " 2   artist_id   int32   \n",
      "dtypes: category(1), int32(2)\n",
      "memory usage: 356.0 MB\n"
     ]
    }
   ],
   "source": [
    "album_path = '../data/LFM-1b_albums.txt'\n",
    "data_types = check_dtypes(album_path)\n",
    "albums = pd.read_csv(album_path, sep = '\\t', dtype=data_types, header=None)\n",
    "albums.columns = ['album_id','album_name','artist_id']\n",
    "albums.info()"
   ]
  },
  {
   "cell_type": "code",
   "execution_count": 61,
   "metadata": {},
   "outputs": [
    {
     "data": {
      "text/plain": [
       "album_id            0\n",
       "album_name    1352241\n",
       "artist_id           0\n",
       "dtype: int64"
      ]
     },
     "execution_count": 61,
     "metadata": {},
     "output_type": "execute_result"
    }
   ],
   "source": [
    "albums.isnull().sum()"
   ]
  },
  {
   "cell_type": "code",
   "execution_count": 49,
   "metadata": {},
   "outputs": [
    {
     "data": {
      "text/plain": [
       "15934220"
      ]
     },
     "execution_count": 49,
     "metadata": {},
     "output_type": "execute_result"
    }
   ],
   "source": [
    "albums['album_id'].nunique()"
   ]
  },
  {
   "cell_type": "code",
   "execution_count": 52,
   "metadata": {},
   "outputs": [
    {
     "data": {
      "text/plain": [
       "5847775"
      ]
     },
     "execution_count": 52,
     "metadata": {},
     "output_type": "execute_result"
    }
   ],
   "source": [
    "albums['album_name'].nunique()"
   ]
  },
  {
   "cell_type": "code",
   "execution_count": 7,
   "metadata": {},
   "outputs": [
    {
     "data": {
      "text/plain": [
       "3180677"
      ]
     },
     "execution_count": 7,
     "metadata": {},
     "output_type": "execute_result"
    }
   ],
   "source": [
    "albums['artist_id'].nunique()"
   ]
  },
  {
   "cell_type": "code",
   "execution_count": 8,
   "metadata": {},
   "outputs": [
    {
     "data": {
      "text/plain": [
       "0"
      ]
     },
     "execution_count": 8,
     "metadata": {},
     "output_type": "execute_result"
    }
   ],
   "source": [
    "albums['album_id'].duplicated().sum()"
   ]
  },
  {
   "cell_type": "code",
   "execution_count": 14,
   "metadata": {},
   "outputs": [
    {
     "data": {
      "text/plain": [
       "10086444"
      ]
     },
     "execution_count": 14,
     "metadata": {},
     "output_type": "execute_result"
    }
   ],
   "source": [
    "albums['album_name'].duplicated().sum()"
   ]
  },
  {
   "cell_type": "code",
   "execution_count": 9,
   "metadata": {},
   "outputs": [
    {
     "data": {
      "text/plain": [
       "12753543"
      ]
     },
     "execution_count": 9,
     "metadata": {},
     "output_type": "execute_result"
    }
   ],
   "source": [
    "albums['artist_id'].duplicated().sum()"
   ]
  },
  {
   "cell_type": "code",
   "execution_count": 19,
   "metadata": {},
   "outputs": [
    {
     "data": {
      "text/plain": [
       "3121710"
      ]
     },
     "execution_count": 19,
     "metadata": {},
     "output_type": "execute_result"
    }
   ],
   "source": [
    "len(albums) - (albums['album_name'].duplicated(keep=False).sum() + albums['album_name'].isnull().sum())\n",
    "# 결측치, 중복값이 없는 album name 수"
   ]
  },
  {
   "cell_type": "code",
   "execution_count": 22,
   "metadata": {},
   "outputs": [
    {
     "name": "stdout",
     "output_type": "stream",
     "text": [
      "ratio of album_name without null n duplicates :  19.591231952364158\n"
     ]
    }
   ],
   "source": [
    "print(\"ratio of album_name without null n duplicates : \", (len(albums) - (albums['album_name'].duplicated(keep=False).sum() + albums['album_name'].isnull().sum()))/len(albums) * 100)"
   ]
  },
  {
   "cell_type": "code",
   "execution_count": 55,
   "metadata": {},
   "outputs": [],
   "source": [
    "albums_sort = albums.sort_values(by='album_name')"
   ]
  },
  {
   "cell_type": "code",
   "execution_count": 62,
   "metadata": {},
   "outputs": [
    {
     "data": {
      "text/html": [
       "<div>\n",
       "<style scoped>\n",
       "    .dataframe tbody tr th:only-of-type {\n",
       "        vertical-align: middle;\n",
       "    }\n",
       "\n",
       "    .dataframe tbody tr th {\n",
       "        vertical-align: top;\n",
       "    }\n",
       "\n",
       "    .dataframe thead th {\n",
       "        text-align: right;\n",
       "    }\n",
       "</style>\n",
       "<table border=\"1\" class=\"dataframe\">\n",
       "  <thead>\n",
       "    <tr style=\"text-align: right;\">\n",
       "      <th></th>\n",
       "      <th>album_id</th>\n",
       "      <th>album_name</th>\n",
       "      <th>artist_id</th>\n",
       "    </tr>\n",
       "  </thead>\n",
       "  <tbody>\n",
       "    <tr>\n",
       "      <th>4046858</th>\n",
       "      <td>4056112</td>\n",
       "      <td>#1</td>\n",
       "      <td>60506</td>\n",
       "    </tr>\n",
       "    <tr>\n",
       "      <th>1497114</th>\n",
       "      <td>1501163</td>\n",
       "      <td>#1</td>\n",
       "      <td>237137</td>\n",
       "    </tr>\n",
       "    <tr>\n",
       "      <th>687454</th>\n",
       "      <td>687663</td>\n",
       "      <td>#1</td>\n",
       "      <td>206344</td>\n",
       "    </tr>\n",
       "    <tr>\n",
       "      <th>14561287</th>\n",
       "      <td>14610884</td>\n",
       "      <td>#1</td>\n",
       "      <td>2884943</td>\n",
       "    </tr>\n",
       "    <tr>\n",
       "      <th>11741372</th>\n",
       "      <td>11778919</td>\n",
       "      <td>#1</td>\n",
       "      <td>18437</td>\n",
       "    </tr>\n",
       "    <tr>\n",
       "      <th>8101155</th>\n",
       "      <td>8122961</td>\n",
       "      <td>#1</td>\n",
       "      <td>676569</td>\n",
       "    </tr>\n",
       "    <tr>\n",
       "      <th>13620083</th>\n",
       "      <td>13663325</td>\n",
       "      <td>#1</td>\n",
       "      <td>39056</td>\n",
       "    </tr>\n",
       "    <tr>\n",
       "      <th>3954056</th>\n",
       "      <td>3961641</td>\n",
       "      <td>#1</td>\n",
       "      <td>509405</td>\n",
       "    </tr>\n",
       "    <tr>\n",
       "      <th>13042473</th>\n",
       "      <td>13085046</td>\n",
       "      <td>#1</td>\n",
       "      <td>468567</td>\n",
       "    </tr>\n",
       "    <tr>\n",
       "      <th>13620082</th>\n",
       "      <td>13663324</td>\n",
       "      <td>#1</td>\n",
       "      <td>21447</td>\n",
       "    </tr>\n",
       "    <tr>\n",
       "      <th>13620081</th>\n",
       "      <td>13663323</td>\n",
       "      <td>#1</td>\n",
       "      <td>16881</td>\n",
       "    </tr>\n",
       "    <tr>\n",
       "      <th>11816155</th>\n",
       "      <td>11853702</td>\n",
       "      <td>#1</td>\n",
       "      <td>46181</td>\n",
       "    </tr>\n",
       "    <tr>\n",
       "      <th>337498</th>\n",
       "      <td>337707</td>\n",
       "      <td>#1</td>\n",
       "      <td>7696</td>\n",
       "    </tr>\n",
       "    <tr>\n",
       "      <th>1804075</th>\n",
       "      <td>1808124</td>\n",
       "      <td>#1</td>\n",
       "      <td>352205</td>\n",
       "    </tr>\n",
       "    <tr>\n",
       "      <th>12862270</th>\n",
       "      <td>12904376</td>\n",
       "      <td>#1</td>\n",
       "      <td>2588518</td>\n",
       "    </tr>\n",
       "    <tr>\n",
       "      <th>14058987</th>\n",
       "      <td>14105585</td>\n",
       "      <td>#1</td>\n",
       "      <td>224961</td>\n",
       "    </tr>\n",
       "    <tr>\n",
       "      <th>5301840</th>\n",
       "      <td>5313912</td>\n",
       "      <td>#1</td>\n",
       "      <td>1172756</td>\n",
       "    </tr>\n",
       "    <tr>\n",
       "      <th>4060052</th>\n",
       "      <td>4069306</td>\n",
       "      <td>#1</td>\n",
       "      <td>56067</td>\n",
       "    </tr>\n",
       "    <tr>\n",
       "      <th>15214323</th>\n",
       "      <td>15265669</td>\n",
       "      <td>#1</td>\n",
       "      <td>3026453</td>\n",
       "    </tr>\n",
       "    <tr>\n",
       "      <th>12809719</th>\n",
       "      <td>12851825</td>\n",
       "      <td>#1</td>\n",
       "      <td>2579034</td>\n",
       "    </tr>\n",
       "    <tr>\n",
       "      <th>4581912</th>\n",
       "      <td>4592261</td>\n",
       "      <td>#1</td>\n",
       "      <td>504592</td>\n",
       "    </tr>\n",
       "    <tr>\n",
       "      <th>4605483</th>\n",
       "      <td>4616330</td>\n",
       "      <td>#1</td>\n",
       "      <td>586357</td>\n",
       "    </tr>\n",
       "    <tr>\n",
       "      <th>4605464</th>\n",
       "      <td>4616311</td>\n",
       "      <td>#1</td>\n",
       "      <td>1038005</td>\n",
       "    </tr>\n",
       "    <tr>\n",
       "      <th>7562943</th>\n",
       "      <td>7584141</td>\n",
       "      <td>#1</td>\n",
       "      <td>77059</td>\n",
       "    </tr>\n",
       "    <tr>\n",
       "      <th>15715895</th>\n",
       "      <td>15771456</td>\n",
       "      <td>#1</td>\n",
       "      <td>407957</td>\n",
       "    </tr>\n",
       "    <tr>\n",
       "      <th>3896227</th>\n",
       "      <td>3903812</td>\n",
       "      <td>#1</td>\n",
       "      <td>52247</td>\n",
       "    </tr>\n",
       "    <tr>\n",
       "      <th>15115229</th>\n",
       "      <td>15166575</td>\n",
       "      <td>#1</td>\n",
       "      <td>3004460</td>\n",
       "    </tr>\n",
       "    <tr>\n",
       "      <th>6766264</th>\n",
       "      <td>6783103</td>\n",
       "      <td>#1</td>\n",
       "      <td>132032</td>\n",
       "    </tr>\n",
       "    <tr>\n",
       "      <th>3992195</th>\n",
       "      <td>4001445</td>\n",
       "      <td>#1</td>\n",
       "      <td>913996</td>\n",
       "    </tr>\n",
       "    <tr>\n",
       "      <th>10095437</th>\n",
       "      <td>10123940</td>\n",
       "      <td>#1</td>\n",
       "      <td>2083095</td>\n",
       "    </tr>\n",
       "  </tbody>\n",
       "</table>\n",
       "</div>"
      ],
      "text/plain": [
       "          album_id album_name  artist_id\n",
       "4046858    4056112         #1      60506\n",
       "1497114    1501163         #1     237137\n",
       "687454      687663         #1     206344\n",
       "14561287  14610884         #1    2884943\n",
       "11741372  11778919         #1      18437\n",
       "8101155    8122961         #1     676569\n",
       "13620083  13663325         #1      39056\n",
       "3954056    3961641         #1     509405\n",
       "13042473  13085046         #1     468567\n",
       "13620082  13663324         #1      21447\n",
       "13620081  13663323         #1      16881\n",
       "11816155  11853702         #1      46181\n",
       "337498      337707         #1       7696\n",
       "1804075    1808124         #1     352205\n",
       "12862270  12904376         #1    2588518\n",
       "14058987  14105585         #1     224961\n",
       "5301840    5313912         #1    1172756\n",
       "4060052    4069306         #1      56067\n",
       "15214323  15265669         #1    3026453\n",
       "12809719  12851825         #1    2579034\n",
       "4581912    4592261         #1     504592\n",
       "4605483    4616330         #1     586357\n",
       "4605464    4616311         #1    1038005\n",
       "7562943    7584141         #1      77059\n",
       "15715895  15771456         #1     407957\n",
       "3896227    3903812         #1      52247\n",
       "15115229  15166575         #1    3004460\n",
       "6766264    6783103         #1     132032\n",
       "3992195    4001445         #1     913996\n",
       "10095437  10123940         #1    2083095"
      ]
     },
     "execution_count": 62,
     "metadata": {},
     "output_type": "execute_result"
    }
   ],
   "source": [
    "albums_sort[520:550]"
   ]
  },
  {
   "cell_type": "code",
   "execution_count": 10,
   "metadata": {},
   "outputs": [],
   "source": [
    "del albums"
   ]
  },
  {
   "attachments": {},
   "cell_type": "markdown",
   "metadata": {},
   "source": [
    "## Track\n",
    "\n",
    "- track_id unique값 : 32135384\n",
    "- track_name unique : 22020444\n",
    "    - track_name 중복값 : 12680490\n",
    "- 대부분 1개의 track당 1명의 artist존재\n",
    "    - ! 라는 track의 경우 114명 존재\n",
    "        1. 하나의 노래에 114명이 있는 경우\n",
    "        2. !라는 노래가 여러개 있는 경우\n",
    "        - 구분할 수 있도록 전처리할 필요"
   ]
  },
  {
   "cell_type": "code",
   "execution_count": 11,
   "metadata": {},
   "outputs": [
    {
     "name": "stdout",
     "output_type": "stream",
     "text": [
      "./data/LFM-1b_tracks.txt\n",
      "<class 'pandas.core.frame.DataFrame'>\n",
      "RangeIndex: 32135384 entries, 0 to 32135383\n",
      "Data columns (total 3 columns):\n",
      " #   Column      Dtype   \n",
      "---  ------      -----   \n",
      " 0   track_id    int32   \n",
      " 1   track_name  category\n",
      " 2   artist_id   int32   \n",
      "dtypes: category(1), int32(2)\n",
      "memory usage: 1.0 GB\n"
     ]
    }
   ],
   "source": [
    "track_path = '../data/LFM-1b_tracks.txt'\n",
    "data_types = check_dtypes(track_path)\n",
    "tracks = pd.read_csv(track_path, sep = '\\t', dtype=data_types, header=None)\n",
    "tracks.columns = ['track_id', 'track_name', 'artist_id']\n",
    "tracks.info()"
   ]
  },
  {
   "cell_type": "code",
   "execution_count": 68,
   "metadata": {},
   "outputs": [
    {
     "data": {
      "text/plain": [
       "track_id       0\n",
       "track_name    89\n",
       "artist_id      0\n",
       "dtype: int64"
      ]
     },
     "execution_count": 68,
     "metadata": {},
     "output_type": "execute_result"
    }
   ],
   "source": [
    "tracks.isnull().sum()"
   ]
  },
  {
   "cell_type": "code",
   "execution_count": 66,
   "metadata": {},
   "outputs": [
    {
     "data": {
      "text/plain": [
       "32135384"
      ]
     },
     "execution_count": 66,
     "metadata": {},
     "output_type": "execute_result"
    }
   ],
   "source": [
    "tracks['track_id'].nunique()"
   ]
  },
  {
   "cell_type": "code",
   "execution_count": 67,
   "metadata": {},
   "outputs": [
    {
     "data": {
      "text/plain": [
       "22020444"
      ]
     },
     "execution_count": 67,
     "metadata": {},
     "output_type": "execute_result"
    }
   ],
   "source": [
    "tracks['track_name'].nunique()"
   ]
  },
  {
   "cell_type": "code",
   "execution_count": 73,
   "metadata": {},
   "outputs": [
    {
     "data": {
      "text/plain": [
       "12680490"
      ]
     },
     "execution_count": 73,
     "metadata": {},
     "output_type": "execute_result"
    }
   ],
   "source": [
    "tracks['track_name'].duplicated(keep=False).sum()"
   ]
  },
  {
   "cell_type": "code",
   "execution_count": 75,
   "metadata": {},
   "outputs": [
    {
     "data": {
      "text/plain": [
       "track_name\n",
       "!                               114\n",
       "! (Foreword)                      3\n",
       "!!Oh Lord!! (Demo)                1\n",
       "!;liaF cipE                       1\n",
       "!liaF cipE                        1\n",
       "                               ... \n",
       "ﾐﾇｿﾕ､ﾎSpica                       1\n",
       "ﾒｻポｷﾖ､ﾎﾒｻ､ﾎﾐ｡ﾕh                   1\n",
       "ﾒｻﾊｯ､ｶ､ｸ､・okyo midnight sun      1\n",
       "ﾗﾌﾞ・ﾓｰﾒﾝﾄ                         1\n",
       "�����fmTape1 - Осень              1\n",
       "Name: artist_id, Length: 22020444, dtype: int64"
      ]
     },
     "execution_count": 75,
     "metadata": {},
     "output_type": "execute_result"
    }
   ],
   "source": [
    "tracks.groupby('track_name')['artist_id'].count()"
   ]
  },
  {
   "cell_type": "code",
   "execution_count": 76,
   "metadata": {},
   "outputs": [],
   "source": [
    "del tracks"
   ]
  },
  {
   "attachments": {},
   "cell_type": "markdown",
   "metadata": {},
   "source": [
    "## Users"
   ]
  },
  {
   "cell_type": "code",
   "execution_count": 89,
   "metadata": {},
   "outputs": [
    {
     "name": "stdout",
     "output_type": "stream",
     "text": [
      "./data/LFM-1b_users.txt\n",
      "<class 'pandas.core.frame.DataFrame'>\n",
      "RangeIndex: 120322 entries, 0 to 120321\n",
      "Data columns (total 6 columns):\n",
      " #   Column                Non-Null Count   Dtype   \n",
      "---  ------                --------------   -----   \n",
      " 0   user_id               120322 non-null  object  \n",
      " 1   country               55186 non-null   category\n",
      " 2   age                   120322 non-null  category\n",
      " 3   gender                120110 non-null  category\n",
      " 4   playcount             120322 non-null  category\n",
      " 5   registered_timestamp  120322 non-null  object  \n",
      "dtypes: category(4), object(2)\n",
      "memory usage: 4.1+ MB\n"
     ]
    }
   ],
   "source": [
    "user_path = '../data/LFM-1b_users.txt'\n",
    "data_types = check_dtypes(user_path)\n",
    "users = pd.read_csv(user_path, sep = '\\t', dtype=data_types)\n",
    "users.columns = ['user_id', 'country', 'age', 'gender', 'playcount', 'registered_timestamp']\n",
    "users.info()"
   ]
  },
  {
   "attachments": {},
   "cell_type": "markdown",
   "metadata": {},
   "source": [
    "- country, gender에 대해서 결측치를 자의적으로 채울 수는 없음"
   ]
  },
  {
   "cell_type": "code",
   "execution_count": 90,
   "metadata": {},
   "outputs": [
    {
     "data": {
      "text/plain": [
       "user_id                     0\n",
       "country                 65136\n",
       "age                         0\n",
       "gender                    212\n",
       "playcount                   0\n",
       "registered_timestamp        0\n",
       "dtype: int64"
      ]
     },
     "execution_count": 90,
     "metadata": {},
     "output_type": "execute_result"
    }
   ],
   "source": [
    "users.isnull().sum()"
   ]
  },
  {
   "cell_type": "code",
   "execution_count": 110,
   "metadata": {},
   "outputs": [
    {
     "data": {
      "text/plain": [
       "<AxesSubplot: >"
      ]
     },
     "execution_count": 110,
     "metadata": {},
     "output_type": "execute_result"
    },
    {
     "data": {
      "image/png": "[encoded data removed]",
      "text/plain": [
       "<Figure size 432x288 with 1 Axes>"
      ]
     },
     "metadata": {
      "needs_background": "light"
     },
     "output_type": "display_data"
    }
   ],
   "source": [
    "np.log(users['playcount'].astype('int32')+(1.1)).hist(bins=50) # log를 취해서 그룹화 할 수 있음 -> light, normal, heavy user"
   ]
  },
  {
   "attachments": {},
   "cell_type": "markdown",
   "metadata": {},
   "source": [
    "### users additional"
   ]
  },
  {
   "cell_type": "code",
   "execution_count": 113,
   "metadata": {},
   "outputs": [
    {
     "name": "stdout",
     "output_type": "stream",
     "text": [
      "./data/LFM-1b_users_additional.txt\n"
     ]
    },
    {
     "name": "stderr",
     "output_type": "stream",
     "text": [
      "/tmp/ipykernel_124117/1142350585.py:6: DtypeWarning: Columns (0) have mixed types. Specify dtype option on import or set low_memory=False.\n",
      "  df = pd.read_csv(file_path, sep='\\t', usecols=[col], header = None)\n",
      "/tmp/ipykernel_124117/1142350585.py:6: DtypeWarning: Columns (2) have mixed types. Specify dtype option on import or set low_memory=False.\n",
      "  df = pd.read_csv(file_path, sep='\\t', usecols=[col], header = None)\n",
      "/tmp/ipykernel_124117/1142350585.py:6: DtypeWarning: Columns (4) have mixed types. Specify dtype option on import or set low_memory=False.\n",
      "  df = pd.read_csv(file_path, sep='\\t', usecols=[col], header = None)\n",
      "/tmp/ipykernel_124117/1142350585.py:6: DtypeWarning: Columns (6) have mixed types. Specify dtype option on import or set low_memory=False.\n",
      "  df = pd.read_csv(file_path, sep='\\t', usecols=[col], header = None)\n",
      "/tmp/ipykernel_124117/1142350585.py:6: DtypeWarning: Columns (7) have mixed types. Specify dtype option on import or set low_memory=False.\n",
      "  df = pd.read_csv(file_path, sep='\\t', usecols=[col], header = None)\n",
      "/tmp/ipykernel_124117/1142350585.py:6: DtypeWarning: Columns (8) have mixed types. Specify dtype option on import or set low_memory=False.\n",
      "  df = pd.read_csv(file_path, sep='\\t', usecols=[col], header = None)\n",
      "/tmp/ipykernel_124117/1142350585.py:6: DtypeWarning: Columns (9) have mixed types. Specify dtype option on import or set low_memory=False.\n",
      "  df = pd.read_csv(file_path, sep='\\t', usecols=[col], header = None)\n",
      "/tmp/ipykernel_124117/1142350585.py:6: DtypeWarning: Columns (10) have mixed types. Specify dtype option on import or set low_memory=False.\n",
      "  df = pd.read_csv(file_path, sep='\\t', usecols=[col], header = None)\n",
      "/tmp/ipykernel_124117/1142350585.py:6: DtypeWarning: Columns (11) have mixed types. Specify dtype option on import or set low_memory=False.\n",
      "  df = pd.read_csv(file_path, sep='\\t', usecols=[col], header = None)\n"
     ]
    },
    {
     "name": "stdout",
     "output_type": "stream",
     "text": [
      "<class 'pandas.core.frame.DataFrame'>\n",
      "RangeIndex: 120322 entries, 0 to 120321\n",
      "Data columns (total 43 columns):\n",
      " #   Column                        Non-Null Count   Dtype   \n",
      "---  ------                        --------------   -----   \n",
      " 0   user-id                       120322 non-null  object  \n",
      " 1   novelty_artist_avg_month      120322 non-null  object  \n",
      " 2   novelty_artist_avg_6months    120322 non-null  object  \n",
      " 3   novelty_artist_avg_year       120322 non-null  object  \n",
      " 4   mainstreaminess_avg_month     120322 non-null  object  \n",
      " 5   mainstreaminess_avg_6months   120322 non-null  category\n",
      " 6   mainstreaminess_avg_year      120322 non-null  object  \n",
      " 7   mainstreaminess_global        120322 non-null  object  \n",
      " 8   cnt_listeningevents           120322 non-null  category\n",
      " 9   cnt_distinct_tracks           120322 non-null  category\n",
      " 10  cnt_distinct_artists          120322 non-null  category\n",
      " 11  cnt_listeningevents_per_week  120322 non-null  object  \n",
      " 12  relative_le_per_weekday1      120322 non-null  category\n",
      " 13  relative_le_per_weekday2      120322 non-null  category\n",
      " 14  relative_le_per_weekday3      120322 non-null  category\n",
      " 15  relative_le_per_weekday4      120322 non-null  category\n",
      " 16  relative_le_per_weekday5      120322 non-null  category\n",
      " 17  relative_le_per_weekday6      120322 non-null  category\n",
      " 18  relative_le_per_weekday7      120322 non-null  category\n",
      " 19  relative_le_per_hour0         120322 non-null  category\n",
      " 20  relative_le_per_hour1         120322 non-null  category\n",
      " 21  relative_le_per_hour2         120322 non-null  category\n",
      " 22  relative_le_per_hour3         120322 non-null  category\n",
      " 23  relative_le_per_hour4         120322 non-null  category\n",
      " 24  relative_le_per_hour5         120322 non-null  category\n",
      " 25  relative_le_per_hour6         120322 non-null  category\n",
      " 26  relative_le_per_hour7         120322 non-null  category\n",
      " 27  relative_le_per_hour8         120322 non-null  category\n",
      " 28  relative_le_per_hour9         120322 non-null  category\n",
      " 29  relative_le_per_hour10        120322 non-null  category\n",
      " 30  relative_le_per_hour11        120322 non-null  category\n",
      " 31  relative_le_per_hour12        120322 non-null  category\n",
      " 32  relative_le_per_hour13        120322 non-null  category\n",
      " 33  relative_le_per_hour14        120322 non-null  category\n",
      " 34  relative_le_per_hour15        120322 non-null  category\n",
      " 35  relative_le_per_hour16        120322 non-null  category\n",
      " 36  relative_le_per_hour17        120322 non-null  category\n",
      " 37  relative_le_per_hour18        120322 non-null  category\n",
      " 38  relative_le_per_hour19        120322 non-null  category\n",
      " 39  relative_le_per_hour20        120322 non-null  category\n",
      " 40  relative_le_per_hour21        120322 non-null  category\n",
      " 41  relative_le_per_hour22        120322 non-null  category\n",
      " 42  relative_le_per_hour23        120322 non-null  category\n",
      "dtypes: category(35), object(8)\n",
      "memory usage: 22.8+ MB\n"
     ]
    }
   ],
   "source": [
    "user_add_path = '../data/LFM-1b_users_additional.txt'\n",
    "data_types = check_dtypes(user_add_path)\n",
    "users_add = pd.read_csv(user_add_path, sep = '\\t', dtype=data_types)\n",
    "users_add.info()"
   ]
  },
  {
   "cell_type": "code",
   "execution_count": 1,
   "metadata": {},
   "outputs": [],
   "source": [
    "# # 이건 너무 오래걸림 -> 한번에 불러와서 사용하지 말것\n",
    "# LE_path = '../data/LFM-1b_LEs.txt'\n",
    "# data_types = check_dtypes(LE_path)\n",
    "# LEs = pd.read_csv(LE_path, sep = '\\t', dtype=data_types, header=None, usecols = [-1])\n",
    "# LEs.info()"
   ]
  },
  {
   "cell_type": "code",
   "execution_count": 4,
   "metadata": {},
   "outputs": [
    {
     "name": "stdout",
     "output_type": "stream",
     "text": [
      "./data/lfm1b_conv/lfm1b-artists.inter\n"
     ]
    },
    {
     "name": "stderr",
     "output_type": "stream",
     "text": [
      "/tmp/ipykernel_130138/4284277936.py:7: DtypeWarning: Columns (0) have mixed types. Specify dtype option on import or set low_memory=False.\n",
      "  df = pd.read_csv(file_path, sep='\\t', usecols=[col], header = None)\n",
      "/tmp/ipykernel_130138/4284277936.py:7: DtypeWarning: Columns (1) have mixed types. Specify dtype option on import or set low_memory=False.\n",
      "  df = pd.read_csv(file_path, sep='\\t', usecols=[col], header = None)\n",
      "/tmp/ipykernel_130138/4284277936.py:7: DtypeWarning: Columns (2) have mixed types. Specify dtype option on import or set low_memory=False.\n",
      "  df = pd.read_csv(file_path, sep='\\t', usecols=[col], header = None)\n",
      "/tmp/ipykernel_130138/4284277936.py:7: DtypeWarning: Columns (3) have mixed types. Specify dtype option on import or set low_memory=False.\n",
      "  df = pd.read_csv(file_path, sep='\\t', usecols=[col], header = None)\n"
     ]
    },
    {
     "name": "stdout",
     "output_type": "stream",
     "text": [
      "<class 'pandas.core.frame.DataFrame'>\n",
      "RangeIndex: 65133026 entries, 0 to 65133025\n",
      "Data columns (total 4 columns):\n",
      " #   Column            Dtype   \n",
      "---  ------            -----   \n",
      " 0   user_id:token     category\n",
      " 1   artists_id:token  category\n",
      " 2   timestamp:float   object  \n",
      " 3   num_repeat:float  category\n",
      "dtypes: category(3), object(1)\n",
      "memory usage: 1.2+ GB\n"
     ]
    }
   ],
   "source": [
    "LE_path = '../data/lfm1b_conv/lfm1b-artists.inter'\n",
    "data_types = check_dtypes(LE_path)\n",
    "LEs = pd.read_csv(LE_path, sep = '\\t', dtype=data_types)\n",
    "LEs.info()"
   ]
  },
  {
   "cell_type": "code",
   "execution_count": 5,
   "metadata": {},
   "outputs": [
    {
     "data": {
      "text/html": [
       "<div>\n",
       "<style scoped>\n",
       "    .dataframe tbody tr th:only-of-type {\n",
       "        vertical-align: middle;\n",
       "    }\n",
       "\n",
       "    .dataframe tbody tr th {\n",
       "        vertical-align: top;\n",
       "    }\n",
       "\n",
       "    .dataframe thead th {\n",
       "        text-align: right;\n",
       "    }\n",
       "</style>\n",
       "<table border=\"1\" class=\"dataframe\">\n",
       "  <thead>\n",
       "    <tr style=\"text-align: right;\">\n",
       "      <th></th>\n",
       "      <th>user_id:token</th>\n",
       "      <th>artists_id:token</th>\n",
       "      <th>timestamp:float</th>\n",
       "      <th>num_repeat:float</th>\n",
       "    </tr>\n",
       "  </thead>\n",
       "  <tbody>\n",
       "    <tr>\n",
       "      <th>0</th>\n",
       "      <td>31435741</td>\n",
       "      <td>2</td>\n",
       "      <td>1385212958</td>\n",
       "      <td>31</td>\n",
       "    </tr>\n",
       "    <tr>\n",
       "      <th>1</th>\n",
       "      <td>31435741</td>\n",
       "      <td>13</td>\n",
       "      <td>1381867823</td>\n",
       "      <td>73</td>\n",
       "    </tr>\n",
       "    <tr>\n",
       "      <th>2</th>\n",
       "      <td>31435741</td>\n",
       "      <td>21</td>\n",
       "      <td>1370977938</td>\n",
       "      <td>54</td>\n",
       "    </tr>\n",
       "    <tr>\n",
       "      <th>3</th>\n",
       "      <td>31435741</td>\n",
       "      <td>32</td>\n",
       "      <td>1369853851</td>\n",
       "      <td>84</td>\n",
       "    </tr>\n",
       "    <tr>\n",
       "      <th>4</th>\n",
       "      <td>31435741</td>\n",
       "      <td>44</td>\n",
       "      <td>1369059233</td>\n",
       "      <td>807</td>\n",
       "    </tr>\n",
       "  </tbody>\n",
       "</table>\n",
       "</div>"
      ],
      "text/plain": [
       "  user_id:token artists_id:token timestamp:float num_repeat:float\n",
       "0      31435741                2      1385212958               31\n",
       "1      31435741               13      1381867823               73\n",
       "2      31435741               21      1370977938               54\n",
       "3      31435741               32      1369853851               84\n",
       "4      31435741               44      1369059233              807"
      ]
     },
     "execution_count": 5,
     "metadata": {},
     "output_type": "execute_result"
    }
   ],
   "source": [
    "LEs.head()"
   ]
  },
  {
   "cell_type": "code",
   "execution_count": 7,
   "metadata": {},
   "outputs": [],
   "source": [
    "import datetime"
   ]
  },
  {
   "cell_type": "code",
   "execution_count": 8,
   "metadata": {},
   "outputs": [],
   "source": [
    "years = LEs.iloc[:,2].astype('int32').apply(lambda x: datetime.datetime.utcfromtimestamp(x).strftime('%Y-%m-%d %H:%M:%S')).str[:4].astype('int32')"
   ]
  },
  {
   "cell_type": "code",
   "execution_count": 42,
   "metadata": {},
   "outputs": [
    {
     "data": {
      "text/plain": [
       "4"
      ]
     },
     "execution_count": 42,
     "metadata": {},
     "output_type": "execute_result"
    }
   ],
   "source": [
    "years[(years>=2015)].count() # 2015년 이후의 interaction 데이터는 거의 없음"
   ]
  },
  {
   "cell_type": "code",
   "execution_count": 43,
   "metadata": {},
   "outputs": [],
   "source": [
    "del LEs"
   ]
  },
  {
   "attachments": {},
   "cell_type": "markdown",
   "metadata": {},
   "source": [
    "## artists.item"
   ]
  },
  {
   "cell_type": "code",
   "execution_count": 44,
   "metadata": {},
   "outputs": [
    {
     "name": "stdout",
     "output_type": "stream",
     "text": [
      "./data/lfm1b_conv/lfm1b-artists.item\n"
     ]
    },
    {
     "name": "stderr",
     "output_type": "stream",
     "text": [
      "/tmp/ipykernel_130138/4284277936.py:7: DtypeWarning: Columns (0) have mixed types. Specify dtype option on import or set low_memory=False.\n",
      "  df = pd.read_csv(file_path, sep='\\t', usecols=[col], header = None)\n"
     ]
    },
    {
     "name": "stdout",
     "output_type": "stream",
     "text": [
      "<class 'pandas.core.frame.DataFrame'>\n",
      "RangeIndex: 3169572 entries, 0 to 3169571\n",
      "Data columns (total 2 columns):\n",
      " #   Column            Dtype \n",
      "---  ------            ----- \n",
      " 0   artists_id:token  object\n",
      " 1   name:token_seq    object\n",
      "dtypes: object(2)\n",
      "memory usage: 48.4+ MB\n"
     ]
    }
   ],
   "source": [
    "item_path = '../data/lfm1b_conv/lfm1b-artists.item'\n",
    "data_types = check_dtypes(item_path)\n",
    "items = pd.read_csv(item_path, sep = '\\t', dtype=data_types)\n",
    "items.info()"
   ]
  },
  {
   "cell_type": "code",
   "execution_count": 52,
   "metadata": {},
   "outputs": [
    {
     "data": {
      "text/plain": [
       "3162592"
      ]
     },
     "execution_count": 52,
     "metadata": {},
     "output_type": "execute_result"
    }
   ],
   "source": [
    "items.iloc[:,1].nunique()"
   ]
  },
  {
   "cell_type": "code",
   "execution_count": 55,
   "metadata": {},
   "outputs": [
    {
     "data": {
      "text/html": [
       "<div>\n",
       "<style scoped>\n",
       "    .dataframe tbody tr th:only-of-type {\n",
       "        vertical-align: middle;\n",
       "    }\n",
       "\n",
       "    .dataframe tbody tr th {\n",
       "        vertical-align: top;\n",
       "    }\n",
       "\n",
       "    .dataframe thead th {\n",
       "        text-align: right;\n",
       "    }\n",
       "</style>\n",
       "<table border=\"1\" class=\"dataframe\">\n",
       "  <thead>\n",
       "    <tr style=\"text-align: right;\">\n",
       "      <th></th>\n",
       "      <th>artists_id:token</th>\n",
       "      <th>name:token_seq</th>\n",
       "    </tr>\n",
       "  </thead>\n",
       "  <tbody>\n",
       "    <tr>\n",
       "      <th>278970</th>\n",
       "      <td>279761</td>\n",
       "      <td>#366: A life lived</td>\n",
       "    </tr>\n",
       "    <tr>\n",
       "      <th>3091457</th>\n",
       "      <td>3111382</td>\n",
       "      <td>#366: A life lived</td>\n",
       "    </tr>\n",
       "    <tr>\n",
       "      <th>1492495</th>\n",
       "      <td>1500205</td>\n",
       "      <td>'68</td>\n",
       "    </tr>\n",
       "    <tr>\n",
       "      <th>420268</th>\n",
       "      <td>423319</td>\n",
       "      <td>'68</td>\n",
       "    </tr>\n",
       "    <tr>\n",
       "      <th>243663</th>\n",
       "      <td>244192</td>\n",
       "      <td>((Thorlock))</td>\n",
       "    </tr>\n",
       "    <tr>\n",
       "      <th>...</th>\n",
       "      <td>...</td>\n",
       "      <td>...</td>\n",
       "    </tr>\n",
       "    <tr>\n",
       "      <th>11411</th>\n",
       "      <td>11412</td>\n",
       "      <td>NaN</td>\n",
       "    </tr>\n",
       "    <tr>\n",
       "      <th>61716</th>\n",
       "      <td>61717</td>\n",
       "      <td>NaN</td>\n",
       "    </tr>\n",
       "    <tr>\n",
       "      <th>179428</th>\n",
       "      <td>179429</td>\n",
       "      <td>NaN</td>\n",
       "    </tr>\n",
       "    <tr>\n",
       "      <th>460153</th>\n",
       "      <td>463214</td>\n",
       "      <td>NaN</td>\n",
       "    </tr>\n",
       "    <tr>\n",
       "      <th>2890045</th>\n",
       "      <td>2907523</td>\n",
       "      <td>NaN</td>\n",
       "    </tr>\n",
       "  </tbody>\n",
       "</table>\n",
       "<p>13905 rows × 2 columns</p>\n",
       "</div>"
      ],
      "text/plain": [
       "        artists_id:token      name:token_seq\n",
       "278970            279761  #366: A life lived\n",
       "3091457          3111382  #366: A life lived\n",
       "1492495          1500205                 '68\n",
       "420268            423319                 '68\n",
       "243663            244192        ((Thorlock))\n",
       "...                  ...                 ...\n",
       "11411              11412                 NaN\n",
       "61716              61717                 NaN\n",
       "179428            179429                 NaN\n",
       "460153            463214                 NaN\n",
       "2890045          2907523                 NaN\n",
       "\n",
       "[13905 rows x 2 columns]"
      ]
     },
     "execution_count": 55,
     "metadata": {},
     "output_type": "execute_result"
    }
   ],
   "source": [
    "items[items.iloc[:,1].duplicated(keep=False)].sort_values(by='name:token_seq') # 중복 값 약 6900개 존재"
   ]
  },
  {
   "cell_type": "code",
   "execution_count": 56,
   "metadata": {},
   "outputs": [],
   "source": [
    "del items"
   ]
  },
  {
   "attachments": {},
   "cell_type": "markdown",
   "metadata": {},
   "source": [
    "## artists.user"
   ]
  },
  {
   "cell_type": "code",
   "execution_count": 57,
   "metadata": {},
   "outputs": [
    {
     "name": "stdout",
     "output_type": "stream",
     "text": [
      "./data/lfm1b_conv/lfm1b-artists.user\n"
     ]
    },
    {
     "name": "stderr",
     "output_type": "stream",
     "text": [
      "/tmp/ipykernel_130138/4284277936.py:7: DtypeWarning: Columns (0) have mixed types. Specify dtype option on import or set low_memory=False.\n",
      "  df = pd.read_csv(file_path, sep='\\t', usecols=[col], header = None)\n",
      "/tmp/ipykernel_130138/4284277936.py:7: DtypeWarning: Columns (2) have mixed types. Specify dtype option on import or set low_memory=False.\n",
      "  df = pd.read_csv(file_path, sep='\\t', usecols=[col], header = None)\n",
      "/tmp/ipykernel_130138/4284277936.py:7: DtypeWarning: Columns (4) have mixed types. Specify dtype option on import or set low_memory=False.\n",
      "  df = pd.read_csv(file_path, sep='\\t', usecols=[col], header = None)\n",
      "/tmp/ipykernel_130138/4284277936.py:7: DtypeWarning: Columns (5) have mixed types. Specify dtype option on import or set low_memory=False.\n",
      "  df = pd.read_csv(file_path, sep='\\t', usecols=[col], header = None)\n",
      "/tmp/ipykernel_130138/4284277936.py:7: DtypeWarning: Columns (6) have mixed types. Specify dtype option on import or set low_memory=False.\n",
      "  df = pd.read_csv(file_path, sep='\\t', usecols=[col], header = None)\n",
      "/tmp/ipykernel_130138/4284277936.py:7: DtypeWarning: Columns (7) have mixed types. Specify dtype option on import or set low_memory=False.\n",
      "  df = pd.read_csv(file_path, sep='\\t', usecols=[col], header = None)\n",
      "/tmp/ipykernel_130138/4284277936.py:7: DtypeWarning: Columns (8) have mixed types. Specify dtype option on import or set low_memory=False.\n",
      "  df = pd.read_csv(file_path, sep='\\t', usecols=[col], header = None)\n",
      "/tmp/ipykernel_130138/4284277936.py:7: DtypeWarning: Columns (9) have mixed types. Specify dtype option on import or set low_memory=False.\n",
      "  df = pd.read_csv(file_path, sep='\\t', usecols=[col], header = None)\n",
      "/tmp/ipykernel_130138/4284277936.py:7: DtypeWarning: Columns (10) have mixed types. Specify dtype option on import or set low_memory=False.\n",
      "  df = pd.read_csv(file_path, sep='\\t', usecols=[col], header = None)\n",
      "/tmp/ipykernel_130138/4284277936.py:7: DtypeWarning: Columns (11) have mixed types. Specify dtype option on import or set low_memory=False.\n",
      "  df = pd.read_csv(file_path, sep='\\t', usecols=[col], header = None)\n",
      "/tmp/ipykernel_130138/4284277936.py:7: DtypeWarning: Columns (12) have mixed types. Specify dtype option on import or set low_memory=False.\n",
      "  df = pd.read_csv(file_path, sep='\\t', usecols=[col], header = None)\n",
      "/tmp/ipykernel_130138/4284277936.py:7: DtypeWarning: Columns (13) have mixed types. Specify dtype option on import or set low_memory=False.\n",
      "  df = pd.read_csv(file_path, sep='\\t', usecols=[col], header = None)\n",
      "/tmp/ipykernel_130138/4284277936.py:7: DtypeWarning: Columns (14) have mixed types. Specify dtype option on import or set low_memory=False.\n",
      "  df = pd.read_csv(file_path, sep='\\t', usecols=[col], header = None)\n",
      "/tmp/ipykernel_130138/4284277936.py:7: DtypeWarning: Columns (15) have mixed types. Specify dtype option on import or set low_memory=False.\n",
      "  df = pd.read_csv(file_path, sep='\\t', usecols=[col], header = None)\n",
      "/tmp/ipykernel_130138/4284277936.py:7: DtypeWarning: Columns (16) have mixed types. Specify dtype option on import or set low_memory=False.\n",
      "  df = pd.read_csv(file_path, sep='\\t', usecols=[col], header = None)\n",
      "/tmp/ipykernel_130138/4284277936.py:7: DtypeWarning: Columns (17) have mixed types. Specify dtype option on import or set low_memory=False.\n",
      "  df = pd.read_csv(file_path, sep='\\t', usecols=[col], header = None)\n",
      "/tmp/ipykernel_130138/4284277936.py:7: DtypeWarning: Columns (18) have mixed types. Specify dtype option on import or set low_memory=False.\n",
      "  df = pd.read_csv(file_path, sep='\\t', usecols=[col], header = None)\n",
      "/tmp/ipykernel_130138/4284277936.py:7: DtypeWarning: Columns (19) have mixed types. Specify dtype option on import or set low_memory=False.\n",
      "  df = pd.read_csv(file_path, sep='\\t', usecols=[col], header = None)\n",
      "/tmp/ipykernel_130138/4284277936.py:7: DtypeWarning: Columns (20) have mixed types. Specify dtype option on import or set low_memory=False.\n",
      "  df = pd.read_csv(file_path, sep='\\t', usecols=[col], header = None)\n",
      "/tmp/ipykernel_130138/4284277936.py:7: DtypeWarning: Columns (21) have mixed types. Specify dtype option on import or set low_memory=False.\n",
      "  df = pd.read_csv(file_path, sep='\\t', usecols=[col], header = None)\n",
      "/tmp/ipykernel_130138/4284277936.py:7: DtypeWarning: Columns (22) have mixed types. Specify dtype option on import or set low_memory=False.\n",
      "  df = pd.read_csv(file_path, sep='\\t', usecols=[col], header = None)\n",
      "/tmp/ipykernel_130138/4284277936.py:7: DtypeWarning: Columns (23) have mixed types. Specify dtype option on import or set low_memory=False.\n",
      "  df = pd.read_csv(file_path, sep='\\t', usecols=[col], header = None)\n",
      "/tmp/ipykernel_130138/4284277936.py:7: DtypeWarning: Columns (24) have mixed types. Specify dtype option on import or set low_memory=False.\n",
      "  df = pd.read_csv(file_path, sep='\\t', usecols=[col], header = None)\n",
      "/tmp/ipykernel_130138/4284277936.py:7: DtypeWarning: Columns (25) have mixed types. Specify dtype option on import or set low_memory=False.\n",
      "  df = pd.read_csv(file_path, sep='\\t', usecols=[col], header = None)\n",
      "/tmp/ipykernel_130138/4284277936.py:7: DtypeWarning: Columns (26) have mixed types. Specify dtype option on import or set low_memory=False.\n",
      "  df = pd.read_csv(file_path, sep='\\t', usecols=[col], header = None)\n",
      "/tmp/ipykernel_130138/4284277936.py:7: DtypeWarning: Columns (27) have mixed types. Specify dtype option on import or set low_memory=False.\n",
      "  df = pd.read_csv(file_path, sep='\\t', usecols=[col], header = None)\n",
      "/tmp/ipykernel_130138/4284277936.py:7: DtypeWarning: Columns (28) have mixed types. Specify dtype option on import or set low_memory=False.\n",
      "  df = pd.read_csv(file_path, sep='\\t', usecols=[col], header = None)\n",
      "/tmp/ipykernel_130138/4284277936.py:7: DtypeWarning: Columns (29) have mixed types. Specify dtype option on import or set low_memory=False.\n",
      "  df = pd.read_csv(file_path, sep='\\t', usecols=[col], header = None)\n",
      "/tmp/ipykernel_130138/4284277936.py:7: DtypeWarning: Columns (30) have mixed types. Specify dtype option on import or set low_memory=False.\n",
      "  df = pd.read_csv(file_path, sep='\\t', usecols=[col], header = None)\n",
      "/tmp/ipykernel_130138/4284277936.py:7: DtypeWarning: Columns (31) have mixed types. Specify dtype option on import or set low_memory=False.\n",
      "  df = pd.read_csv(file_path, sep='\\t', usecols=[col], header = None)\n",
      "/tmp/ipykernel_130138/4284277936.py:7: DtypeWarning: Columns (32) have mixed types. Specify dtype option on import or set low_memory=False.\n",
      "  df = pd.read_csv(file_path, sep='\\t', usecols=[col], header = None)\n",
      "/tmp/ipykernel_130138/4284277936.py:7: DtypeWarning: Columns (33) have mixed types. Specify dtype option on import or set low_memory=False.\n",
      "  df = pd.read_csv(file_path, sep='\\t', usecols=[col], header = None)\n",
      "/tmp/ipykernel_130138/4284277936.py:7: DtypeWarning: Columns (34) have mixed types. Specify dtype option on import or set low_memory=False.\n",
      "  df = pd.read_csv(file_path, sep='\\t', usecols=[col], header = None)\n",
      "/tmp/ipykernel_130138/4284277936.py:7: DtypeWarning: Columns (35) have mixed types. Specify dtype option on import or set low_memory=False.\n",
      "  df = pd.read_csv(file_path, sep='\\t', usecols=[col], header = None)\n",
      "/tmp/ipykernel_130138/4284277936.py:7: DtypeWarning: Columns (36) have mixed types. Specify dtype option on import or set low_memory=False.\n",
      "  df = pd.read_csv(file_path, sep='\\t', usecols=[col], header = None)\n",
      "/tmp/ipykernel_130138/4284277936.py:7: DtypeWarning: Columns (37) have mixed types. Specify dtype option on import or set low_memory=False.\n",
      "  df = pd.read_csv(file_path, sep='\\t', usecols=[col], header = None)\n",
      "/tmp/ipykernel_130138/4284277936.py:7: DtypeWarning: Columns (38) have mixed types. Specify dtype option on import or set low_memory=False.\n",
      "  df = pd.read_csv(file_path, sep='\\t', usecols=[col], header = None)\n",
      "/tmp/ipykernel_130138/4284277936.py:7: DtypeWarning: Columns (39) have mixed types. Specify dtype option on import or set low_memory=False.\n",
      "  df = pd.read_csv(file_path, sep='\\t', usecols=[col], header = None)\n",
      "/tmp/ipykernel_130138/4284277936.py:7: DtypeWarning: Columns (40) have mixed types. Specify dtype option on import or set low_memory=False.\n",
      "  df = pd.read_csv(file_path, sep='\\t', usecols=[col], header = None)\n",
      "/tmp/ipykernel_130138/4284277936.py:7: DtypeWarning: Columns (41) have mixed types. Specify dtype option on import or set low_memory=False.\n",
      "  df = pd.read_csv(file_path, sep='\\t', usecols=[col], header = None)\n",
      "/tmp/ipykernel_130138/4284277936.py:7: DtypeWarning: Columns (42) have mixed types. Specify dtype option on import or set low_memory=False.\n",
      "  df = pd.read_csv(file_path, sep='\\t', usecols=[col], header = None)\n",
      "/tmp/ipykernel_130138/4284277936.py:7: DtypeWarning: Columns (43) have mixed types. Specify dtype option on import or set low_memory=False.\n",
      "  df = pd.read_csv(file_path, sep='\\t', usecols=[col], header = None)\n",
      "/tmp/ipykernel_130138/4284277936.py:7: DtypeWarning: Columns (44) have mixed types. Specify dtype option on import or set low_memory=False.\n",
      "  df = pd.read_csv(file_path, sep='\\t', usecols=[col], header = None)\n",
      "/tmp/ipykernel_130138/4284277936.py:7: DtypeWarning: Columns (45) have mixed types. Specify dtype option on import or set low_memory=False.\n",
      "  df = pd.read_csv(file_path, sep='\\t', usecols=[col], header = None)\n",
      "/tmp/ipykernel_130138/4284277936.py:7: DtypeWarning: Columns (46) have mixed types. Specify dtype option on import or set low_memory=False.\n",
      "  df = pd.read_csv(file_path, sep='\\t', usecols=[col], header = None)\n",
      "/tmp/ipykernel_130138/4284277936.py:7: DtypeWarning: Columns (47) have mixed types. Specify dtype option on import or set low_memory=False.\n",
      "  df = pd.read_csv(file_path, sep='\\t', usecols=[col], header = None)\n"
     ]
    },
    {
     "name": "stdout",
     "output_type": "stream",
     "text": [
      "<class 'pandas.core.frame.DataFrame'>\n",
      "RangeIndex: 120322 entries, 0 to 120321\n",
      "Data columns (total 48 columns):\n",
      " #   Column                              Non-Null Count   Dtype   \n",
      "---  ------                              --------------   -----   \n",
      " 0   user_id:token                       120322 non-null  object  \n",
      " 1   country:token                       55186 non-null   category\n",
      " 2   age:float                           120322 non-null  category\n",
      " 3   gender:token                        120110 non-null  category\n",
      " 4   playcount:float                     120322 non-null  category\n",
      " 5   registered_timestamp:float          120322 non-null  object  \n",
      " 6   novelty_artist_avg_month:float      120182 non-null  object  \n",
      " 7   novelty_artist_avg_6months:float    120322 non-null  object  \n",
      " 8   novelty_artist_avg_year:float       112792 non-null  object  \n",
      " 9   mainstreaminess_avg_month:float     120322 non-null  object  \n",
      " 10  mainstreaminess_avg_6months:float   101711 non-null  category\n",
      " 11  mainstreaminess_avg_year:float      120322 non-null  object  \n",
      " 12  mainstreaminess_global:float        120322 non-null  object  \n",
      " 13  cnt_listeningevents:float           120322 non-null  category\n",
      " 14  cnt_distinct_tracks:float           120322 non-null  category\n",
      " 15  cnt_distinct_artists:float          120322 non-null  category\n",
      " 16  cnt_listeningevents_per_week:float  120322 non-null  object  \n",
      " 17  relative_le_per_weekday1:float      117920 non-null  category\n",
      " 18  relative_le_per_weekday2:float      117944 non-null  category\n",
      " 19  relative_le_per_weekday3:float      118105 non-null  category\n",
      " 20  relative_le_per_weekday4:float      118195 non-null  category\n",
      " 21  relative_le_per_weekday5:float      118268 non-null  category\n",
      " 22  relative_le_per_weekday6:float      116291 non-null  category\n",
      " 23  relative_le_per_weekday7:float      115158 non-null  category\n",
      " 24  relative le per hour0:float         108513 non-null  category\n",
      " 25  relative le per hour1:float         103872 non-null  category\n",
      " 26  relative le per hour2:float         98452 non-null   category\n",
      " 27  relative le per hour3:float         93365 non-null   category\n",
      " 28  relative le per hour4:float         89103 non-null   category\n",
      " 29  relative le per hour5:float         87266 non-null   category\n",
      " 30  relative le per hour6:float         88308 non-null   category\n",
      " 31  relative le per hour7:float         92208 non-null   category\n",
      " 32  relative le per hour8:float         96003 non-null   category\n",
      " 33  relative le per hour9:float         98756 non-null   category\n",
      " 34  relative le per hour10:float        99539 non-null   category\n",
      " 35  relative le per hour11:float        100060 non-null  category\n",
      " 36  relative le per hour12:float        101317 non-null  category\n",
      " 37  relative le per hour13:float        103867 non-null  category\n",
      " 38  relative le per hour14:float        106998 non-null  category\n",
      " 39  relative le per hour15:float        110102 non-null  category\n",
      " 40  relative le per hour16:float        112760 non-null  category\n",
      " 41  relative le per hour17:float        114352 non-null  category\n",
      " 42  relative le per hour18:float        115119 non-null  category\n",
      " 43  relative le per hour19:float        115149 non-null  category\n",
      " 44  relative le per hour20:float        114932 non-null  category\n",
      " 45  relative le per hour21:float        114318 non-null  category\n",
      " 46  relative le per hour22:float        113525 non-null  category\n",
      " 47  relative le per hour23:float        111723 non-null  category\n",
      "dtypes: category(39), object(9)\n",
      "memory usage: 25.9+ MB\n"
     ]
    }
   ],
   "source": [
    "user_path = '../data/lfm1b_conv/lfm1b-artists.user'\n",
    "data_types = check_dtypes(user_path)\n",
    "users = pd.read_csv(user_path, sep = '\\t', dtype=data_types)\n",
    "users.info()"
   ]
  },
  {
   "attachments": {},
   "cell_type": "markdown",
   "metadata": {},
   "source": [
    "## 데이터의 문제점\n",
    "1. album\n",
    "    - name이 id와 매치가 되지 않음\n",
    "    - name이 같은 경우, 동일한 album인지 다른 album인지 구분할 필요가 있음\n",
    "        - album의 attribute를 통해서 파악해야함 -> Merge -> 메모리 문제 -> 분산 처리 필요\n",
    "        - artist, genre등으로 파악해야함\n",
    "2. track\n",
    "    - album과 유사한 문제\n",
    "    - track에 대한 attribute를 분석해 동일 track인지 아닌지 판별해야함\n",
    "\n",
    "3. interaction\n",
    "    - 2015년 이후의 interaction은 거의 없음 : 4개\n",
    "        - 최신 데이터 사용 필요 -> 최소한 2022년도 까지 비는 년도는 없어야 한다고 생각"
   ]
  },
  {
   "attachments": {},
   "cell_type": "markdown",
   "metadata": {},
   "source": [
    "## LFM-1b Datatset summary\n",
    "\n",
    "1. \"We define a listening event as a quintuple specified by [user, artist, album, track and timestamp]\n",
    "    - \"The period during which we fetched the data ranges from Jan 2013 to Aug 2014\"\n",
    "---\n",
    "1. listening event(LEs.txt)의 수집기간이 2013.01 ~ 2014.08 까지인게 맞나..?\n",
    "    - 이것 역시 추가 데이터 수집 필요해 보임"
   ]
  }
 ],
 "metadata": {
  "kernelspec": {
   "display_name": "base",
   "language": "python",
   "name": "python3"
  },
  "language_info": {
   "codemirror_mode": {
    "name": "ipython",
    "version": 3
   },
   "file_extension": ".py",
   "mimetype": "text/x-python",
   "name": "python",
   "nbconvert_exporter": "python",
   "pygments_lexer": "ipython3",
   "version": "3.8.5 (default, Sep  4 2020, 07:30:14) \n[GCC 7.3.0]"
  },
  "orig_nbformat": 4,
  "vscode": {
   "interpreter": {
    "hash": "d4d1e4263499bec80672ea0156c357c1ee493ec2b1c70f0acce89fc37c4a6abe"
   }
  }
 },
 "nbformat": 4,
 "nbformat_minor": 2
}
